{
 "cells": [
  {
   "cell_type": "markdown",
   "metadata": {},
   "source": [
    "# <span style='color:Red'>Practical Linear Algebra </span>"
   ]
  },
  {
   "cell_type": "markdown",
   "metadata": {},
   "source": [
    "## <span style='color:orange'> Local - Global Coordinate Conversion </span>"
   ]
  },
  {
   "cell_type": "code",
   "execution_count": 8,
   "metadata": {},
   "outputs": [],
   "source": [
    "# Local to Global and Global to Local Coordinate Conversion\n",
    "\n",
    "def local_to_global(point, bb_min, bb_max):\n",
    "    \"\"\"Convert a point from local to global coordinates.\n",
    "\n",
    "    Args:\n",
    "        point: A point in local coordinates. point = (u1, u2)\n",
    "        bounding_box: A bounding box in global coordinates. bb_min = (xmin, ymin), bb_max = (xmax, ymax) \n",
    "\n",
    "    Returns:\n",
    "        A point in global coordinates.\n",
    "    \"\"\"\n",
    "    x = bb_min[0] + point[0] * (bb_max[0] - bb_min[0]) # x = xmin + u1 * (xmax - xmin)\n",
    "    y = bb_min[1] + point[1] * (bb_max[1] - bb_min[1]) # y = ymin + u2 * (ymax - ymin)\n",
    "\n",
    "    p = (x, y)\n",
    "    return p\n",
    "\n",
    "def global_to_local(point, bb_min, bb_max):\n",
    "    \"\"\"Convert a point from global to local coordinates.\n",
    "\n",
    "    Args:\n",
    "        point: A point in global coordinates. point = (x,y)\n",
    "        bounding_box: A bounding box in global coordinates. bb_min = (xmin, ymin), bb_max = (xmax, ymax) \n",
    "\n",
    "    Returns:\n",
    "        A point in local coordinates.\n",
    "    \"\"\"\n",
    "    u1 = (point[0] - bb_min[0]) / (bb_max[0] - bb_min[0]) #(x - xmin) / (xmax - xmin)\n",
    "    u2 = (point[1] - bb_min[1]) / (bb_max[1] - bb_min[1]) #(y - ymin) / (ymax - ymin)\n",
    "\n",
    "    u = (u1, u2)\n",
    "    return u"
   ]
  },
  {
   "cell_type": "markdown",
   "metadata": {},
   "source": [
    "## <span style='color:orange'> Length / Magnitude / Euclidean / L2 Norm of a Vector  </span>\n"
   ]
  },
  {
   "cell_type": "code",
   "execution_count": 9,
   "metadata": {},
   "outputs": [],
   "source": [
    "# Magnitude of a vector\n",
    "import math\n",
    "\n",
    "def magnitude_vector(v):\n",
    "    return math.sqrt(sum([x*x for x in v]))\n",
    "\n",
    "def magnitude_points(p1, p2):\n",
    "    return magnitude_vector([p2[0]-p1[0], p2[1]-p1[1]])    "
   ]
  },
  {
   "cell_type": "markdown",
   "metadata": {},
   "source": [
    "## <span style='color:orange'> Dot Product and Angle between Two Vectors  </span>\n"
   ]
  },
  {
   "cell_type": "code",
   "execution_count": 11,
   "metadata": {},
   "outputs": [],
   "source": [
    "# Dot Product between two vector\n",
    "import math\n",
    "\n",
    "def dot_product(a, b):\n",
    "    return sum([a[i]*b[i] for i in range(len(a))])\n",
    "\n",
    "def angle_between_vectors(a, b):\n",
    "    return math.acos(dot_product(a, b) / (math.sqrt(dot_product(a, a)) * math.sqrt(dot_product(b, b))))"
   ]
  },
  {
   "cell_type": "markdown",
   "metadata": {},
   "source": [
    "## <span style='color:orange'> Addition and Subtraction of Vectors  </span>\n"
   ]
  },
  {
   "cell_type": "code",
   "execution_count": null,
   "metadata": {},
   "outputs": [],
   "source": [
    "# Addition and Subtraction of vectors\n",
    "import math\n",
    "\n",
    "def add_vectors(v, w):\n",
    "    \"\"\"adds corresponding elements\"\"\"\n",
    "    return [v_i + w_i for v_i, w_i in zip(v, w)]\n",
    "\n",
    "def subtract_vectors(v, w):\n",
    "    \"\"\"subtracts corresponding elements\"\"\"\n",
    "    return [v_i - w_i for v_i, w_i in zip(v, w)]"
   ]
  }
 ],
 "metadata": {
  "kernelspec": {
   "display_name": ".venv",
   "language": "python",
   "name": "python3"
  },
  "language_info": {
   "codemirror_mode": {
    "name": "ipython",
    "version": 3
   },
   "file_extension": ".py",
   "mimetype": "text/x-python",
   "name": "python",
   "nbconvert_exporter": "python",
   "pygments_lexer": "ipython3",
   "version": "3.11.4"
  },
  "orig_nbformat": 4
 },
 "nbformat": 4,
 "nbformat_minor": 2
}
